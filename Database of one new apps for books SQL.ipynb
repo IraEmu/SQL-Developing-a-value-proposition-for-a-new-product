{
 "cells": [
  {
   "cell_type": "markdown",
   "metadata": {
    "toc": true
   },
   "source": [
    "<h1>Table of Contents<span class=\"tocSkip\"></span></h1>\n",
    "<div class=\"toc\"><ul class=\"toc-item\"><li><span><a href=\"#Description\" data-toc-modified-id=\"Description-1\"><span class=\"toc-item-num\">1&nbsp;&nbsp;</span>Description</a></span><ul class=\"toc-item\"><li><span><a href=\"#The-goals-of-the-study\" data-toc-modified-id=\"The-goals-of-the-study-1.1\"><span class=\"toc-item-num\">1.1&nbsp;&nbsp;</span>The goals of the study</a></span></li><li><span><a href=\"#Access-to-the-data-base\" data-toc-modified-id=\"Access-to-the-data-base-1.2\"><span class=\"toc-item-num\">1.2&nbsp;&nbsp;</span>Access to the data base</a></span></li><li><span><a href=\"#Study-the-tables-(print-the-first-rows)\" data-toc-modified-id=\"Study-the-tables-(print-the-first-rows)-1.3\"><span class=\"toc-item-num\">1.3&nbsp;&nbsp;</span>Study the tables (print the first rows)</a></span></li></ul></li><li><span><a href=\"#Tasks\" data-toc-modified-id=\"Tasks-2\"><span class=\"toc-item-num\">2&nbsp;&nbsp;</span>Tasks</a></span><ul class=\"toc-item\"><li><span><a href=\"#Find-the-number-of-books-released-after-January-1,-2000.\" data-toc-modified-id=\"Find-the-number-of-books-released-after-January-1,-2000.-2.1\"><span class=\"toc-item-num\">2.1&nbsp;&nbsp;</span>Find the number of books released after January 1, 2000.</a></span></li><li><span><a href=\"#Find-the-number-of-user-reviews-and-the-average-rating-for-each-book.\" data-toc-modified-id=\"Find-the-number-of-user-reviews-and-the-average-rating-for-each-book.-2.2\"><span class=\"toc-item-num\">2.2&nbsp;&nbsp;</span>Find the number of user reviews and the average rating for each book.</a></span></li><li><span><a href=\"#Identify-the-publisher-that-has-released-the-greatest-number-of-books-with-more-than-50-pages.\" data-toc-modified-id=\"Identify-the-publisher-that-has-released-the-greatest-number-of-books-with-more-than-50-pages.-2.3\"><span class=\"toc-item-num\">2.3&nbsp;&nbsp;</span>Identify the publisher that has released the greatest number of books with more than 50 pages.</a></span></li><li><span><a href=\"#Identify-the-author-with-the-highest-average-book-rating-(look-only-at-books-with-at-least-50-ratings).\" data-toc-modified-id=\"Identify-the-author-with-the-highest-average-book-rating-(look-only-at-books-with-at-least-50-ratings).-2.4\"><span class=\"toc-item-num\">2.4&nbsp;&nbsp;</span>Identify the author with the highest average book rating (look only at books with at least 50 ratings).</a></span></li><li><span><a href=\"#Find-the-average-number-of-text-reviews-among-users-who-rated-more-than-50-books.\" data-toc-modified-id=\"Find-the-average-number-of-text-reviews-among-users-who-rated-more-than-50-books.-2.5\"><span class=\"toc-item-num\">2.5&nbsp;&nbsp;</span>Find the average number of text reviews among users who rated more than 50 books.</a></span></li></ul></li><li><span><a href=\"#Conclusion.\" data-toc-modified-id=\"Conclusion.-3\"><span class=\"toc-item-num\">3&nbsp;&nbsp;</span>Conclusion.</a></span></li></ul></div>"
   ]
  },
  {
   "cell_type": "markdown",
   "metadata": {},
   "source": [
    "# Developing a value proposition for a new product SQL"
   ]
  },
  {
   "cell_type": "markdown",
   "metadata": {},
   "source": [
    "## Description"
   ]
  },
  {
   "cell_type": "markdown",
   "metadata": {},
   "source": [
    "![](Untitled_-_2020-07-02T142019.920_1593688954.png)"
   ]
  },
  {
   "cell_type": "markdown",
   "metadata": {},
   "source": [
    "The coronavirus took the entire world by surprise, changing everyone's daily routine. City dwellers no longer spent their free time outside, going to cafes and malls; more people were home, reading books. That attracted the attention of startups that rushed to develop new apps for book lovers.\n",
    "\n",
    "You've been given a database of one of the services competing in this market. It contains data on books, publishers, authors, and customer ratings and reviews of books. This information will be used to generate a value proposition for a new product.\n",
    "Description of the data\n",
    "\n",
    "<b>books:</b>\n",
    "\n",
    "Contains data on books:\n",
    "\n",
    "`book_id`\n",
    "\n",
    "`author_id`\n",
    "\n",
    "`title`\n",
    "\n",
    "`num_pages` — number of pages\n",
    "\n",
    "`publication_date`\n",
    "\n",
    "`publisher_id`\n",
    "\n",
    "<b>authors:</b>\n",
    "\n",
    "Contains data on authors:\n",
    "\n",
    "`author_id`\n",
    "\n",
    "`author`\n",
    "\n",
    "<b>publishers:</b>\n",
    "\n",
    "Contains data on publishers:\n",
    "\n",
    "`publisher_id`\n",
    "\n",
    "`publisher`\n",
    "\n",
    "<b>ratings:</b>\n",
    "\n",
    "Contains data on user ratings:\n",
    "\n",
    "`rating_id`\n",
    "\n",
    "`book_id`\n",
    "\n",
    "`username` — the name of the user who rated the book\n",
    "\n",
    "`rating`\n",
    "    \n",
    "<b>reviews:</b>\n",
    "\n",
    "Contains data on customer reviews:\n",
    "\n",
    "`review_id`\n",
    "\n",
    "`book_id`\n",
    "\n",
    "`username` — the name of the user who reviewed the book\n",
    "\n",
    "`text` — the text of the review"
   ]
  },
  {
   "cell_type": "markdown",
   "metadata": {},
   "source": [
    "### The goals of the study"
   ]
  },
  {
   "cell_type": "markdown",
   "metadata": {},
   "source": [
    "Generate information for making a value proposition for a new product."
   ]
  },
  {
   "cell_type": "markdown",
   "metadata": {},
   "source": [
    "### Access to the data base"
   ]
  },
  {
   "cell_type": "code",
   "execution_count": 1,
   "metadata": {},
   "outputs": [],
   "source": [
    "import pandas as pd\n",
    "from sqlalchemy import create_engine"
   ]
  },
  {
   "cell_type": "code",
   "execution_count": 2,
   "metadata": {},
   "outputs": [],
   "source": [
    "db_config = {'user': 'praktikum_student',         # user name\n",
    "             'pwd': 'Sdf4$2;d-d30pp', # password\n",
    "             'host': 'rc1b-wcoijxj3yxfsf3fs.mdb.yandexcloud.net',\n",
    "             'port': 6432,              # connection port\n",
    "             'db': 'data-analyst-final-project-db'}          # the name of the data base\n",
    "\n",
    "connection_string = 'postgresql://{}:{}@{}:{}/{}'.format(db_config['user'],\n",
    "                                                                     db_config['pwd'],\n",
    "                                                                       db_config['host'],\n",
    "                                                                       db_config['port'],\n",
    "                                                                       db_config['db'])\n",
    "\n",
    "engine = create_engine(connection_string, connect_args={'sslmode':'require'})"
   ]
  },
  {
   "cell_type": "markdown",
   "metadata": {},
   "source": [
    "### Study the tables (print the first rows)"
   ]
  },
  {
   "cell_type": "code",
   "execution_count": 3,
   "metadata": {},
   "outputs": [
    {
     "data": {
      "text/html": [
       "<div>\n",
       "<style scoped>\n",
       "    .dataframe tbody tr th:only-of-type {\n",
       "        vertical-align: middle;\n",
       "    }\n",
       "\n",
       "    .dataframe tbody tr th {\n",
       "        vertical-align: top;\n",
       "    }\n",
       "\n",
       "    .dataframe thead th {\n",
       "        text-align: right;\n",
       "    }\n",
       "</style>\n",
       "<table border=\"1\" class=\"dataframe\">\n",
       "  <thead>\n",
       "    <tr style=\"text-align: right;\">\n",
       "      <th></th>\n",
       "      <th>book_id</th>\n",
       "      <th>author_id</th>\n",
       "      <th>title</th>\n",
       "      <th>num_pages</th>\n",
       "      <th>publication_date</th>\n",
       "      <th>publisher_id</th>\n",
       "    </tr>\n",
       "  </thead>\n",
       "  <tbody>\n",
       "    <tr>\n",
       "      <th>0</th>\n",
       "      <td>1</td>\n",
       "      <td>546</td>\n",
       "      <td>'Salem's Lot</td>\n",
       "      <td>594</td>\n",
       "      <td>2005-11-01</td>\n",
       "      <td>93</td>\n",
       "    </tr>\n",
       "    <tr>\n",
       "      <th>1</th>\n",
       "      <td>2</td>\n",
       "      <td>465</td>\n",
       "      <td>1 000 Places to See Before You Die</td>\n",
       "      <td>992</td>\n",
       "      <td>2003-05-22</td>\n",
       "      <td>336</td>\n",
       "    </tr>\n",
       "    <tr>\n",
       "      <th>2</th>\n",
       "      <td>3</td>\n",
       "      <td>407</td>\n",
       "      <td>13 Little Blue Envelopes (Little Blue Envelope...</td>\n",
       "      <td>322</td>\n",
       "      <td>2010-12-21</td>\n",
       "      <td>135</td>\n",
       "    </tr>\n",
       "    <tr>\n",
       "      <th>3</th>\n",
       "      <td>4</td>\n",
       "      <td>82</td>\n",
       "      <td>1491: New Revelations of the Americas Before C...</td>\n",
       "      <td>541</td>\n",
       "      <td>2006-10-10</td>\n",
       "      <td>309</td>\n",
       "    </tr>\n",
       "    <tr>\n",
       "      <th>4</th>\n",
       "      <td>5</td>\n",
       "      <td>125</td>\n",
       "      <td>1776</td>\n",
       "      <td>386</td>\n",
       "      <td>2006-07-04</td>\n",
       "      <td>268</td>\n",
       "    </tr>\n",
       "  </tbody>\n",
       "</table>\n",
       "</div>"
      ],
      "text/plain": [
       "   book_id  author_id                                              title  \\\n",
       "0        1        546                                       'Salem's Lot   \n",
       "1        2        465                 1 000 Places to See Before You Die   \n",
       "2        3        407  13 Little Blue Envelopes (Little Blue Envelope...   \n",
       "3        4         82  1491: New Revelations of the Americas Before C...   \n",
       "4        5        125                                               1776   \n",
       "\n",
       "   num_pages publication_date  publisher_id  \n",
       "0        594       2005-11-01            93  \n",
       "1        992       2003-05-22           336  \n",
       "2        322       2010-12-21           135  \n",
       "3        541       2006-10-10           309  \n",
       "4        386       2006-07-04           268  "
      ]
     },
     "execution_count": 3,
     "metadata": {},
     "output_type": "execute_result"
    }
   ],
   "source": [
    "books = pd.io.sql.read_sql(''' SELECT * FROM books LIMIT 5 ''', con = engine)\n",
    "books"
   ]
  },
  {
   "cell_type": "code",
   "execution_count": 4,
   "metadata": {},
   "outputs": [
    {
     "data": {
      "text/html": [
       "<div>\n",
       "<style scoped>\n",
       "    .dataframe tbody tr th:only-of-type {\n",
       "        vertical-align: middle;\n",
       "    }\n",
       "\n",
       "    .dataframe tbody tr th {\n",
       "        vertical-align: top;\n",
       "    }\n",
       "\n",
       "    .dataframe thead th {\n",
       "        text-align: right;\n",
       "    }\n",
       "</style>\n",
       "<table border=\"1\" class=\"dataframe\">\n",
       "  <thead>\n",
       "    <tr style=\"text-align: right;\">\n",
       "      <th></th>\n",
       "      <th>author_id</th>\n",
       "      <th>author</th>\n",
       "    </tr>\n",
       "  </thead>\n",
       "  <tbody>\n",
       "    <tr>\n",
       "      <th>0</th>\n",
       "      <td>1</td>\n",
       "      <td>A.S. Byatt</td>\n",
       "    </tr>\n",
       "    <tr>\n",
       "      <th>1</th>\n",
       "      <td>2</td>\n",
       "      <td>Aesop/Laura Harris/Laura Gibbs</td>\n",
       "    </tr>\n",
       "    <tr>\n",
       "      <th>2</th>\n",
       "      <td>3</td>\n",
       "      <td>Agatha Christie</td>\n",
       "    </tr>\n",
       "    <tr>\n",
       "      <th>3</th>\n",
       "      <td>4</td>\n",
       "      <td>Alan Brennert</td>\n",
       "    </tr>\n",
       "    <tr>\n",
       "      <th>4</th>\n",
       "      <td>5</td>\n",
       "      <td>Alan Moore/David   Lloyd</td>\n",
       "    </tr>\n",
       "  </tbody>\n",
       "</table>\n",
       "</div>"
      ],
      "text/plain": [
       "   author_id                          author\n",
       "0          1                      A.S. Byatt\n",
       "1          2  Aesop/Laura Harris/Laura Gibbs\n",
       "2          3                 Agatha Christie\n",
       "3          4                   Alan Brennert\n",
       "4          5        Alan Moore/David   Lloyd"
      ]
     },
     "execution_count": 4,
     "metadata": {},
     "output_type": "execute_result"
    }
   ],
   "source": [
    "authors = pd.io.sql.read_sql(''' SELECT * FROM authors LIMIT 5 ''', con = engine)\n",
    "authors"
   ]
  },
  {
   "cell_type": "code",
   "execution_count": 5,
   "metadata": {},
   "outputs": [
    {
     "data": {
      "text/html": [
       "<div>\n",
       "<style scoped>\n",
       "    .dataframe tbody tr th:only-of-type {\n",
       "        vertical-align: middle;\n",
       "    }\n",
       "\n",
       "    .dataframe tbody tr th {\n",
       "        vertical-align: top;\n",
       "    }\n",
       "\n",
       "    .dataframe thead th {\n",
       "        text-align: right;\n",
       "    }\n",
       "</style>\n",
       "<table border=\"1\" class=\"dataframe\">\n",
       "  <thead>\n",
       "    <tr style=\"text-align: right;\">\n",
       "      <th></th>\n",
       "      <th>publisher_id</th>\n",
       "      <th>publisher</th>\n",
       "    </tr>\n",
       "  </thead>\n",
       "  <tbody>\n",
       "    <tr>\n",
       "      <th>0</th>\n",
       "      <td>1</td>\n",
       "      <td>Ace</td>\n",
       "    </tr>\n",
       "    <tr>\n",
       "      <th>1</th>\n",
       "      <td>2</td>\n",
       "      <td>Ace Book</td>\n",
       "    </tr>\n",
       "    <tr>\n",
       "      <th>2</th>\n",
       "      <td>3</td>\n",
       "      <td>Ace Books</td>\n",
       "    </tr>\n",
       "    <tr>\n",
       "      <th>3</th>\n",
       "      <td>4</td>\n",
       "      <td>Ace Hardcover</td>\n",
       "    </tr>\n",
       "    <tr>\n",
       "      <th>4</th>\n",
       "      <td>5</td>\n",
       "      <td>Addison Wesley Publishing Company</td>\n",
       "    </tr>\n",
       "  </tbody>\n",
       "</table>\n",
       "</div>"
      ],
      "text/plain": [
       "   publisher_id                          publisher\n",
       "0             1                                Ace\n",
       "1             2                           Ace Book\n",
       "2             3                          Ace Books\n",
       "3             4                      Ace Hardcover\n",
       "4             5  Addison Wesley Publishing Company"
      ]
     },
     "execution_count": 5,
     "metadata": {},
     "output_type": "execute_result"
    }
   ],
   "source": [
    "publishers = pd.io.sql.read_sql(''' SELECT * FROM publishers LIMIT 5 ''', con = engine)\n",
    "publishers"
   ]
  },
  {
   "cell_type": "code",
   "execution_count": 6,
   "metadata": {},
   "outputs": [
    {
     "data": {
      "text/html": [
       "<div>\n",
       "<style scoped>\n",
       "    .dataframe tbody tr th:only-of-type {\n",
       "        vertical-align: middle;\n",
       "    }\n",
       "\n",
       "    .dataframe tbody tr th {\n",
       "        vertical-align: top;\n",
       "    }\n",
       "\n",
       "    .dataframe thead th {\n",
       "        text-align: right;\n",
       "    }\n",
       "</style>\n",
       "<table border=\"1\" class=\"dataframe\">\n",
       "  <thead>\n",
       "    <tr style=\"text-align: right;\">\n",
       "      <th></th>\n",
       "      <th>rating_id</th>\n",
       "      <th>book_id</th>\n",
       "      <th>username</th>\n",
       "      <th>rating</th>\n",
       "    </tr>\n",
       "  </thead>\n",
       "  <tbody>\n",
       "    <tr>\n",
       "      <th>0</th>\n",
       "      <td>1</td>\n",
       "      <td>1</td>\n",
       "      <td>ryanfranco</td>\n",
       "      <td>4</td>\n",
       "    </tr>\n",
       "    <tr>\n",
       "      <th>1</th>\n",
       "      <td>2</td>\n",
       "      <td>1</td>\n",
       "      <td>grantpatricia</td>\n",
       "      <td>2</td>\n",
       "    </tr>\n",
       "    <tr>\n",
       "      <th>2</th>\n",
       "      <td>3</td>\n",
       "      <td>1</td>\n",
       "      <td>brandtandrea</td>\n",
       "      <td>5</td>\n",
       "    </tr>\n",
       "    <tr>\n",
       "      <th>3</th>\n",
       "      <td>4</td>\n",
       "      <td>2</td>\n",
       "      <td>lorichen</td>\n",
       "      <td>3</td>\n",
       "    </tr>\n",
       "    <tr>\n",
       "      <th>4</th>\n",
       "      <td>5</td>\n",
       "      <td>2</td>\n",
       "      <td>mariokeller</td>\n",
       "      <td>2</td>\n",
       "    </tr>\n",
       "  </tbody>\n",
       "</table>\n",
       "</div>"
      ],
      "text/plain": [
       "   rating_id  book_id       username  rating\n",
       "0          1        1     ryanfranco       4\n",
       "1          2        1  grantpatricia       2\n",
       "2          3        1   brandtandrea       5\n",
       "3          4        2       lorichen       3\n",
       "4          5        2    mariokeller       2"
      ]
     },
     "execution_count": 6,
     "metadata": {},
     "output_type": "execute_result"
    }
   ],
   "source": [
    "ratings = pd.io.sql.read_sql(''' SELECT * FROM ratings LIMIT 5 ''', con = engine)\n",
    "ratings"
   ]
  },
  {
   "cell_type": "code",
   "execution_count": 7,
   "metadata": {
    "scrolled": true
   },
   "outputs": [
    {
     "data": {
      "text/html": [
       "<div>\n",
       "<style scoped>\n",
       "    .dataframe tbody tr th:only-of-type {\n",
       "        vertical-align: middle;\n",
       "    }\n",
       "\n",
       "    .dataframe tbody tr th {\n",
       "        vertical-align: top;\n",
       "    }\n",
       "\n",
       "    .dataframe thead th {\n",
       "        text-align: right;\n",
       "    }\n",
       "</style>\n",
       "<table border=\"1\" class=\"dataframe\">\n",
       "  <thead>\n",
       "    <tr style=\"text-align: right;\">\n",
       "      <th></th>\n",
       "      <th>review_id</th>\n",
       "      <th>book_id</th>\n",
       "      <th>username</th>\n",
       "      <th>text</th>\n",
       "    </tr>\n",
       "  </thead>\n",
       "  <tbody>\n",
       "    <tr>\n",
       "      <th>0</th>\n",
       "      <td>1</td>\n",
       "      <td>1</td>\n",
       "      <td>brandtandrea</td>\n",
       "      <td>Mention society tell send professor analysis. ...</td>\n",
       "    </tr>\n",
       "    <tr>\n",
       "      <th>1</th>\n",
       "      <td>2</td>\n",
       "      <td>1</td>\n",
       "      <td>ryanfranco</td>\n",
       "      <td>Foot glass pretty audience hit themselves. Amo...</td>\n",
       "    </tr>\n",
       "    <tr>\n",
       "      <th>2</th>\n",
       "      <td>3</td>\n",
       "      <td>2</td>\n",
       "      <td>lorichen</td>\n",
       "      <td>Listen treat keep worry. Miss husband tax but ...</td>\n",
       "    </tr>\n",
       "    <tr>\n",
       "      <th>3</th>\n",
       "      <td>4</td>\n",
       "      <td>3</td>\n",
       "      <td>johnsonamanda</td>\n",
       "      <td>Finally month interesting blue could nature cu...</td>\n",
       "    </tr>\n",
       "    <tr>\n",
       "      <th>4</th>\n",
       "      <td>5</td>\n",
       "      <td>3</td>\n",
       "      <td>scotttamara</td>\n",
       "      <td>Nation purpose heavy give wait song will. List...</td>\n",
       "    </tr>\n",
       "  </tbody>\n",
       "</table>\n",
       "</div>"
      ],
      "text/plain": [
       "   review_id  book_id       username  \\\n",
       "0          1        1   brandtandrea   \n",
       "1          2        1     ryanfranco   \n",
       "2          3        2       lorichen   \n",
       "3          4        3  johnsonamanda   \n",
       "4          5        3    scotttamara   \n",
       "\n",
       "                                                text  \n",
       "0  Mention society tell send professor analysis. ...  \n",
       "1  Foot glass pretty audience hit themselves. Amo...  \n",
       "2  Listen treat keep worry. Miss husband tax but ...  \n",
       "3  Finally month interesting blue could nature cu...  \n",
       "4  Nation purpose heavy give wait song will. List...  "
      ]
     },
     "execution_count": 7,
     "metadata": {},
     "output_type": "execute_result"
    }
   ],
   "source": [
    "reviews = pd.io.sql.read_sql(''' SELECT * FROM reviews LIMIT 5 ''', con = engine)\n",
    "reviews"
   ]
  },
  {
   "cell_type": "markdown",
   "metadata": {},
   "source": [
    "## Tasks"
   ]
  },
  {
   "cell_type": "markdown",
   "metadata": {},
   "source": [
    "- Find the number of books released after January 1, 2000.\n",
    "- Find the number of user reviews and the average rating for each book.\n",
    "- Identify the publisher that has released the greatest number of books with more than 50 pages (this will help you exclude brochures and similar publications from your analysis).\n",
    "- Identify the author with the highest average book rating (look only at books with at least 50 ratings).\n",
    "- Find the average number of text reviews among users who rated more than 50 books."
   ]
  },
  {
   "cell_type": "markdown",
   "metadata": {},
   "source": [
    "### Find the number of books released after January 1, 2000."
   ]
  },
  {
   "cell_type": "code",
   "execution_count": 8,
   "metadata": {},
   "outputs": [
    {
     "data": {
      "text/html": [
       "<div>\n",
       "<style scoped>\n",
       "    .dataframe tbody tr th:only-of-type {\n",
       "        vertical-align: middle;\n",
       "    }\n",
       "\n",
       "    .dataframe tbody tr th {\n",
       "        vertical-align: top;\n",
       "    }\n",
       "\n",
       "    .dataframe thead th {\n",
       "        text-align: right;\n",
       "    }\n",
       "</style>\n",
       "<table border=\"1\" class=\"dataframe\">\n",
       "  <thead>\n",
       "    <tr style=\"text-align: right;\">\n",
       "      <th></th>\n",
       "      <th>count</th>\n",
       "    </tr>\n",
       "  </thead>\n",
       "  <tbody>\n",
       "    <tr>\n",
       "      <th>0</th>\n",
       "      <td>1000</td>\n",
       "    </tr>\n",
       "  </tbody>\n",
       "</table>\n",
       "</div>"
      ],
      "text/plain": [
       "   count\n",
       "0   1000"
      ]
     },
     "execution_count": 8,
     "metadata": {},
     "output_type": "execute_result"
    }
   ],
   "source": [
    "query_b = f'''SELECT COUNT(book_id) FROM books AS books_number'''\n",
    "books_total = pd.read_sql(query_b, engine)\n",
    "books_total"
   ]
  },
  {
   "cell_type": "code",
   "execution_count": 9,
   "metadata": {},
   "outputs": [
    {
     "data": {
      "text/html": [
       "<div>\n",
       "<style scoped>\n",
       "    .dataframe tbody tr th:only-of-type {\n",
       "        vertical-align: middle;\n",
       "    }\n",
       "\n",
       "    .dataframe tbody tr th {\n",
       "        vertical-align: top;\n",
       "    }\n",
       "\n",
       "    .dataframe thead th {\n",
       "        text-align: right;\n",
       "    }\n",
       "</style>\n",
       "<table border=\"1\" class=\"dataframe\">\n",
       "  <thead>\n",
       "    <tr style=\"text-align: right;\">\n",
       "      <th></th>\n",
       "      <th>count</th>\n",
       "    </tr>\n",
       "  </thead>\n",
       "  <tbody>\n",
       "    <tr>\n",
       "      <th>0</th>\n",
       "      <td>819</td>\n",
       "    </tr>\n",
       "  </tbody>\n",
       "</table>\n",
       "</div>"
      ],
      "text/plain": [
       "   count\n",
       "0    819"
      ]
     },
     "execution_count": 9,
     "metadata": {},
     "output_type": "execute_result"
    }
   ],
   "source": [
    "books_rel = f''' SELECT COUNT(book_id) FROM books AS books_number\n",
    "                 WHERE publication_date > '2000-01-01' '''\n",
    "books__since_2000 = pd.read_sql(books_rel, engine)\n",
    "books__since_2000"
   ]
  },
  {
   "cell_type": "markdown",
   "metadata": {},
   "source": [
    "Conclusion: Total number of books in the dataset is 1000, 819 of them released after January 1, 2000."
   ]
  },
  {
   "cell_type": "markdown",
   "metadata": {},
   "source": [
    "### Find the number of user reviews and the average rating for each book."
   ]
  },
  {
   "cell_type": "code",
   "execution_count": 10,
   "metadata": {},
   "outputs": [
    {
     "data": {
      "text/html": [
       "<div>\n",
       "<style scoped>\n",
       "    .dataframe tbody tr th:only-of-type {\n",
       "        vertical-align: middle;\n",
       "    }\n",
       "\n",
       "    .dataframe tbody tr th {\n",
       "        vertical-align: top;\n",
       "    }\n",
       "\n",
       "    .dataframe thead th {\n",
       "        text-align: right;\n",
       "    }\n",
       "</style>\n",
       "<table border=\"1\" class=\"dataframe\">\n",
       "  <thead>\n",
       "    <tr style=\"text-align: right;\">\n",
       "      <th></th>\n",
       "      <th>count</th>\n",
       "    </tr>\n",
       "  </thead>\n",
       "  <tbody>\n",
       "    <tr>\n",
       "      <th>0</th>\n",
       "      <td>2793</td>\n",
       "    </tr>\n",
       "  </tbody>\n",
       "</table>\n",
       "</div>"
      ],
      "text/plain": [
       "   count\n",
       "0   2793"
      ]
     },
     "execution_count": 10,
     "metadata": {},
     "output_type": "execute_result"
    }
   ],
   "source": [
    "query_rew = f'''SELECT COUNT(review_id) FROM reviews AS review_number'''\n",
    "reviews_total = pd.read_sql(query_rew, engine)\n",
    "reviews_total"
   ]
  },
  {
   "cell_type": "code",
   "execution_count": 11,
   "metadata": {},
   "outputs": [
    {
     "data": {
      "text/html": [
       "<div>\n",
       "<style scoped>\n",
       "    .dataframe tbody tr th:only-of-type {\n",
       "        vertical-align: middle;\n",
       "    }\n",
       "\n",
       "    .dataframe tbody tr th {\n",
       "        vertical-align: top;\n",
       "    }\n",
       "\n",
       "    .dataframe thead th {\n",
       "        text-align: right;\n",
       "    }\n",
       "</style>\n",
       "<table border=\"1\" class=\"dataframe\">\n",
       "  <thead>\n",
       "    <tr style=\"text-align: right;\">\n",
       "      <th></th>\n",
       "      <th>reviews_number</th>\n",
       "      <th>avg_rating</th>\n",
       "      <th>book_id</th>\n",
       "      <th>title</th>\n",
       "    </tr>\n",
       "  </thead>\n",
       "  <tbody>\n",
       "    <tr>\n",
       "      <th>0</th>\n",
       "      <td>2</td>\n",
       "      <td>1.50</td>\n",
       "      <td>303</td>\n",
       "      <td>Harvesting the Heart</td>\n",
       "    </tr>\n",
       "    <tr>\n",
       "      <th>1</th>\n",
       "      <td>2</td>\n",
       "      <td>2.00</td>\n",
       "      <td>371</td>\n",
       "      <td>Junky</td>\n",
       "    </tr>\n",
       "    <tr>\n",
       "      <th>2</th>\n",
       "      <td>2</td>\n",
       "      <td>2.00</td>\n",
       "      <td>316</td>\n",
       "      <td>His Excellency: George Washington</td>\n",
       "    </tr>\n",
       "    <tr>\n",
       "      <th>3</th>\n",
       "      <td>3</td>\n",
       "      <td>2.00</td>\n",
       "      <td>202</td>\n",
       "      <td>Drowning Ruth</td>\n",
       "    </tr>\n",
       "    <tr>\n",
       "      <th>4</th>\n",
       "      <td>3</td>\n",
       "      <td>2.25</td>\n",
       "      <td>915</td>\n",
       "      <td>The World Is Flat: A Brief History of the Twen...</td>\n",
       "    </tr>\n",
       "    <tr>\n",
       "      <th>...</th>\n",
       "      <td>...</td>\n",
       "      <td>...</td>\n",
       "      <td>...</td>\n",
       "      <td>...</td>\n",
       "    </tr>\n",
       "    <tr>\n",
       "      <th>995</th>\n",
       "      <td>2</td>\n",
       "      <td>5.00</td>\n",
       "      <td>421</td>\n",
       "      <td>Marvel 1602</td>\n",
       "    </tr>\n",
       "    <tr>\n",
       "      <th>996</th>\n",
       "      <td>2</td>\n",
       "      <td>5.00</td>\n",
       "      <td>418</td>\n",
       "      <td>March</td>\n",
       "    </tr>\n",
       "    <tr>\n",
       "      <th>997</th>\n",
       "      <td>2</td>\n",
       "      <td>5.00</td>\n",
       "      <td>169</td>\n",
       "      <td>Crucial Conversations: Tools for Talking When ...</td>\n",
       "    </tr>\n",
       "    <tr>\n",
       "      <th>998</th>\n",
       "      <td>2</td>\n",
       "      <td>5.00</td>\n",
       "      <td>901</td>\n",
       "      <td>The Walking Dead  Book One (The Walking Dead #...</td>\n",
       "    </tr>\n",
       "    <tr>\n",
       "      <th>999</th>\n",
       "      <td>2</td>\n",
       "      <td>5.00</td>\n",
       "      <td>902</td>\n",
       "      <td>The War of Art: Break Through the Blocks &amp; Win...</td>\n",
       "    </tr>\n",
       "  </tbody>\n",
       "</table>\n",
       "<p>1000 rows × 4 columns</p>\n",
       "</div>"
      ],
      "text/plain": [
       "     reviews_number  avg_rating  book_id  \\\n",
       "0                 2        1.50      303   \n",
       "1                 2        2.00      371   \n",
       "2                 2        2.00      316   \n",
       "3                 3        2.00      202   \n",
       "4                 3        2.25      915   \n",
       "..              ...         ...      ...   \n",
       "995               2        5.00      421   \n",
       "996               2        5.00      418   \n",
       "997               2        5.00      169   \n",
       "998               2        5.00      901   \n",
       "999               2        5.00      902   \n",
       "\n",
       "                                                 title  \n",
       "0                                 Harvesting the Heart  \n",
       "1                                                Junky  \n",
       "2                    His Excellency: George Washington  \n",
       "3                                        Drowning Ruth  \n",
       "4    The World Is Flat: A Brief History of the Twen...  \n",
       "..                                                 ...  \n",
       "995                                        Marvel 1602  \n",
       "996                                              March  \n",
       "997  Crucial Conversations: Tools for Talking When ...  \n",
       "998  The Walking Dead  Book One (The Walking Dead #...  \n",
       "999  The War of Art: Break Through the Blocks & Win...  \n",
       "\n",
       "[1000 rows x 4 columns]"
      ]
     },
     "execution_count": 11,
     "metadata": {},
     "output_type": "execute_result"
    }
   ],
   "source": [
    "query_avr2 = f''' SELECT COUNT(DISTINCT review_id) AS reviews_number, AVG(rating) AS avg_rating, books.book_id, title\n",
    "            FROM(( books\n",
    "            LEFT OUTER JOIN ratings ON ratings.book_id = books.book_id)\n",
    "            LEFT OUTER JOIN reviews ON reviews.book_id = ratings.book_id)\n",
    "            GROUP BY books.book_id\n",
    "            ORDER BY avg_rating ASC '''\n",
    "\n",
    "book_avr2 = pd.read_sql(query_avr2, engine)\n",
    "book_avr2"
   ]
  },
  {
   "cell_type": "markdown",
   "metadata": {},
   "source": [
    "Conclusion: Data contains 1000 books with at least one review and average rating from 1,5 to 5."
   ]
  },
  {
   "cell_type": "markdown",
   "metadata": {},
   "source": [
    "### Identify the publisher that has released the greatest number of books with more than 50 pages."
   ]
  },
  {
   "cell_type": "code",
   "execution_count": 12,
   "metadata": {},
   "outputs": [
    {
     "data": {
      "text/html": [
       "<div>\n",
       "<style scoped>\n",
       "    .dataframe tbody tr th:only-of-type {\n",
       "        vertical-align: middle;\n",
       "    }\n",
       "\n",
       "    .dataframe tbody tr th {\n",
       "        vertical-align: top;\n",
       "    }\n",
       "\n",
       "    .dataframe thead th {\n",
       "        text-align: right;\n",
       "    }\n",
       "</style>\n",
       "<table border=\"1\" class=\"dataframe\">\n",
       "  <thead>\n",
       "    <tr style=\"text-align: right;\">\n",
       "      <th></th>\n",
       "      <th>publisher</th>\n",
       "      <th>count</th>\n",
       "    </tr>\n",
       "  </thead>\n",
       "  <tbody>\n",
       "    <tr>\n",
       "      <th>0</th>\n",
       "      <td>Penguin Books</td>\n",
       "      <td>42</td>\n",
       "    </tr>\n",
       "    <tr>\n",
       "      <th>1</th>\n",
       "      <td>Vintage</td>\n",
       "      <td>31</td>\n",
       "    </tr>\n",
       "    <tr>\n",
       "      <th>2</th>\n",
       "      <td>Grand Central Publishing</td>\n",
       "      <td>25</td>\n",
       "    </tr>\n",
       "    <tr>\n",
       "      <th>3</th>\n",
       "      <td>Penguin Classics</td>\n",
       "      <td>24</td>\n",
       "    </tr>\n",
       "    <tr>\n",
       "      <th>4</th>\n",
       "      <td>Ballantine Books</td>\n",
       "      <td>19</td>\n",
       "    </tr>\n",
       "    <tr>\n",
       "      <th>...</th>\n",
       "      <td>...</td>\n",
       "      <td>...</td>\n",
       "    </tr>\n",
       "    <tr>\n",
       "      <th>329</th>\n",
       "      <td>Turtleback</td>\n",
       "      <td>1</td>\n",
       "    </tr>\n",
       "    <tr>\n",
       "      <th>330</th>\n",
       "      <td>Atheneum Books for Young Readers: Richard Jack...</td>\n",
       "      <td>1</td>\n",
       "    </tr>\n",
       "    <tr>\n",
       "      <th>331</th>\n",
       "      <td>Penguin Signet</td>\n",
       "      <td>1</td>\n",
       "    </tr>\n",
       "    <tr>\n",
       "      <th>332</th>\n",
       "      <td>Victor Gollancz</td>\n",
       "      <td>1</td>\n",
       "    </tr>\n",
       "    <tr>\n",
       "      <th>333</th>\n",
       "      <td>Harvard Business Review Press</td>\n",
       "      <td>1</td>\n",
       "    </tr>\n",
       "  </tbody>\n",
       "</table>\n",
       "<p>334 rows × 2 columns</p>\n",
       "</div>"
      ],
      "text/plain": [
       "                                             publisher  count\n",
       "0                                        Penguin Books     42\n",
       "1                                              Vintage     31\n",
       "2                             Grand Central Publishing     25\n",
       "3                                     Penguin Classics     24\n",
       "4                                     Ballantine Books     19\n",
       "..                                                 ...    ...\n",
       "329                                         Turtleback      1\n",
       "330  Atheneum Books for Young Readers: Richard Jack...      1\n",
       "331                                     Penguin Signet      1\n",
       "332                                    Victor Gollancz      1\n",
       "333                      Harvard Business Review Press      1\n",
       "\n",
       "[334 rows x 2 columns]"
      ]
     },
     "execution_count": 12,
     "metadata": {},
     "output_type": "execute_result"
    }
   ],
   "source": [
    "query_pub = f''' SELECT publisher, COUNT(books.book_id) FROM publishers\n",
    "                 INNER JOIN books ON books.publisher_id = publishers.publisher_id\n",
    "                 WHERE num_pages > 50\n",
    "                 GROUP BY publishers.publisher\n",
    "                 ORDER BY COUNT(book_id) DESC '''\n",
    "pub_50 = pd.read_sql(query_pub, engine)\n",
    "pub_50"
   ]
  },
  {
   "cell_type": "markdown",
   "metadata": {},
   "source": [
    "Conclusion: Publisher \"Penguin Books\" released the greatest number of books with more than 50 pages (42 books)."
   ]
  },
  {
   "cell_type": "markdown",
   "metadata": {},
   "source": [
    "### Identify the author with the highest average book rating (look only at books with at least 50 ratings)."
   ]
  },
  {
   "cell_type": "code",
   "execution_count": 18,
   "metadata": {},
   "outputs": [
    {
     "data": {
      "text/html": [
       "<div>\n",
       "<style scoped>\n",
       "    .dataframe tbody tr th:only-of-type {\n",
       "        vertical-align: middle;\n",
       "    }\n",
       "\n",
       "    .dataframe tbody tr th {\n",
       "        vertical-align: top;\n",
       "    }\n",
       "\n",
       "    .dataframe thead th {\n",
       "        text-align: right;\n",
       "    }\n",
       "</style>\n",
       "<table border=\"1\" class=\"dataframe\">\n",
       "  <thead>\n",
       "    <tr style=\"text-align: right;\">\n",
       "      <th></th>\n",
       "      <th>author</th>\n",
       "      <th>avg</th>\n",
       "    </tr>\n",
       "  </thead>\n",
       "  <tbody>\n",
       "    <tr>\n",
       "      <th>0</th>\n",
       "      <td>J.K. Rowling/Mary GrandPré</td>\n",
       "      <td>4.414634</td>\n",
       "    </tr>\n",
       "    <tr>\n",
       "      <th>1</th>\n",
       "      <td>J.R.R. Tolkien</td>\n",
       "      <td>4.391892</td>\n",
       "    </tr>\n",
       "    <tr>\n",
       "      <th>2</th>\n",
       "      <td>J.K. Rowling/Mary GrandPré</td>\n",
       "      <td>4.287500</td>\n",
       "    </tr>\n",
       "    <tr>\n",
       "      <th>3</th>\n",
       "      <td>Markus Zusak/Cao Xuân Việt Khương</td>\n",
       "      <td>4.264151</td>\n",
       "    </tr>\n",
       "    <tr>\n",
       "      <th>4</th>\n",
       "      <td>J.K. Rowling/Mary GrandPré</td>\n",
       "      <td>4.246575</td>\n",
       "    </tr>\n",
       "    <tr>\n",
       "      <th>5</th>\n",
       "      <td>Louisa May Alcott</td>\n",
       "      <td>4.192308</td>\n",
       "    </tr>\n",
       "    <tr>\n",
       "      <th>6</th>\n",
       "      <td>J.K. Rowling/Mary GrandPré</td>\n",
       "      <td>4.186667</td>\n",
       "    </tr>\n",
       "    <tr>\n",
       "      <th>7</th>\n",
       "      <td>J.R.R. Tolkien</td>\n",
       "      <td>4.125000</td>\n",
       "    </tr>\n",
       "    <tr>\n",
       "      <th>8</th>\n",
       "      <td>Rick Riordan</td>\n",
       "      <td>4.080645</td>\n",
       "    </tr>\n",
       "    <tr>\n",
       "      <th>9</th>\n",
       "      <td>William Golding</td>\n",
       "      <td>3.901408</td>\n",
       "    </tr>\n",
       "    <tr>\n",
       "      <th>10</th>\n",
       "      <td>Dan Brown</td>\n",
       "      <td>3.830508</td>\n",
       "    </tr>\n",
       "    <tr>\n",
       "      <th>11</th>\n",
       "      <td>J.D. Salinger</td>\n",
       "      <td>3.825581</td>\n",
       "    </tr>\n",
       "    <tr>\n",
       "      <th>12</th>\n",
       "      <td>Paulo Coelho/Alan R. Clarke/Özdemir İnce</td>\n",
       "      <td>3.789474</td>\n",
       "    </tr>\n",
       "    <tr>\n",
       "      <th>13</th>\n",
       "      <td>William Shakespeare/Paul Werstine/Barbara A. M...</td>\n",
       "      <td>3.787879</td>\n",
       "    </tr>\n",
       "    <tr>\n",
       "      <th>14</th>\n",
       "      <td>Lois Lowry</td>\n",
       "      <td>3.750000</td>\n",
       "    </tr>\n",
       "    <tr>\n",
       "      <th>15</th>\n",
       "      <td>George Orwell/Boris Grabnar/Peter Škerl</td>\n",
       "      <td>3.729730</td>\n",
       "    </tr>\n",
       "    <tr>\n",
       "      <th>16</th>\n",
       "      <td>Dan Brown</td>\n",
       "      <td>3.678571</td>\n",
       "    </tr>\n",
       "    <tr>\n",
       "      <th>17</th>\n",
       "      <td>Stephenie Meyer</td>\n",
       "      <td>3.662500</td>\n",
       "    </tr>\n",
       "    <tr>\n",
       "      <th>18</th>\n",
       "      <td>John Steinbeck</td>\n",
       "      <td>3.622951</td>\n",
       "    </tr>\n",
       "  </tbody>\n",
       "</table>\n",
       "</div>"
      ],
      "text/plain": [
       "                                               author       avg\n",
       "0                          J.K. Rowling/Mary GrandPré  4.414634\n",
       "1                                      J.R.R. Tolkien  4.391892\n",
       "2                          J.K. Rowling/Mary GrandPré  4.287500\n",
       "3                   Markus Zusak/Cao Xuân Việt Khương  4.264151\n",
       "4                          J.K. Rowling/Mary GrandPré  4.246575\n",
       "5                                   Louisa May Alcott  4.192308\n",
       "6                          J.K. Rowling/Mary GrandPré  4.186667\n",
       "7                                      J.R.R. Tolkien  4.125000\n",
       "8                                        Rick Riordan  4.080645\n",
       "9                                     William Golding  3.901408\n",
       "10                                          Dan Brown  3.830508\n",
       "11                                      J.D. Salinger  3.825581\n",
       "12           Paulo Coelho/Alan R. Clarke/Özdemir İnce  3.789474\n",
       "13  William Shakespeare/Paul Werstine/Barbara A. M...  3.787879\n",
       "14                                         Lois Lowry  3.750000\n",
       "15            George Orwell/Boris Grabnar/Peter Škerl  3.729730\n",
       "16                                          Dan Brown  3.678571\n",
       "17                                    Stephenie Meyer  3.662500\n",
       "18                                     John Steinbeck  3.622951"
      ]
     },
     "execution_count": 18,
     "metadata": {},
     "output_type": "execute_result"
    }
   ],
   "source": [
    "pd.read_sql(''' SELECT author, r.avg\n",
    "                FROM (SELECT b.book_id AS id, b.author_id as author_id,\n",
    "                COUNT(DISTINCT(rat.rating_id)),\n",
    "                AVG(rat.rating) as avg\n",
    "                FROM books AS b\n",
    "                INNER JOIN ratings as rat ON b.book_id = rat.book_id\n",
    "                GROUP BY id HAVING COUNT(DISTINCT(rat.rating_id)) > 50) as r\n",
    "                INNER JOIN authors as a ON a.author_id = r.author_id\n",
    "                GROUP BY author, r.avg\n",
    "                ORDER BY r.avg DESC\n",
    "                '''\n",
    "                , engine)\n"
   ]
  },
  {
   "cell_type": "code",
   "execution_count": 24,
   "metadata": {
    "scrolled": true
   },
   "outputs": [
    {
     "data": {
      "text/html": [
       "<div>\n",
       "<style scoped>\n",
       "    .dataframe tbody tr th:only-of-type {\n",
       "        vertical-align: middle;\n",
       "    }\n",
       "\n",
       "    .dataframe tbody tr th {\n",
       "        vertical-align: top;\n",
       "    }\n",
       "\n",
       "    .dataframe thead th {\n",
       "        text-align: right;\n",
       "    }\n",
       "</style>\n",
       "<table border=\"1\" class=\"dataframe\">\n",
       "  <thead>\n",
       "    <tr style=\"text-align: right;\">\n",
       "      <th></th>\n",
       "      <th>author</th>\n",
       "      <th>book_num</th>\n",
       "      <th>avg</th>\n",
       "    </tr>\n",
       "  </thead>\n",
       "  <tbody>\n",
       "    <tr>\n",
       "      <th>0</th>\n",
       "      <td>J.K. Rowling/Mary GrandPré</td>\n",
       "      <td>4</td>\n",
       "      <td>4.283844</td>\n",
       "    </tr>\n",
       "    <tr>\n",
       "      <th>1</th>\n",
       "      <td>Markus Zusak/Cao Xuân Việt Khương</td>\n",
       "      <td>1</td>\n",
       "      <td>4.264151</td>\n",
       "    </tr>\n",
       "    <tr>\n",
       "      <th>2</th>\n",
       "      <td>J.R.R. Tolkien</td>\n",
       "      <td>2</td>\n",
       "      <td>4.258446</td>\n",
       "    </tr>\n",
       "    <tr>\n",
       "      <th>3</th>\n",
       "      <td>Louisa May Alcott</td>\n",
       "      <td>1</td>\n",
       "      <td>4.192308</td>\n",
       "    </tr>\n",
       "    <tr>\n",
       "      <th>4</th>\n",
       "      <td>Rick Riordan</td>\n",
       "      <td>1</td>\n",
       "      <td>4.080645</td>\n",
       "    </tr>\n",
       "    <tr>\n",
       "      <th>5</th>\n",
       "      <td>William Golding</td>\n",
       "      <td>1</td>\n",
       "      <td>3.901408</td>\n",
       "    </tr>\n",
       "    <tr>\n",
       "      <th>6</th>\n",
       "      <td>J.D. Salinger</td>\n",
       "      <td>1</td>\n",
       "      <td>3.825581</td>\n",
       "    </tr>\n",
       "    <tr>\n",
       "      <th>7</th>\n",
       "      <td>Paulo Coelho/Alan R. Clarke/Özdemir İnce</td>\n",
       "      <td>1</td>\n",
       "      <td>3.789474</td>\n",
       "    </tr>\n",
       "    <tr>\n",
       "      <th>8</th>\n",
       "      <td>William Shakespeare/Paul Werstine/Barbara A. M...</td>\n",
       "      <td>1</td>\n",
       "      <td>3.787879</td>\n",
       "    </tr>\n",
       "    <tr>\n",
       "      <th>9</th>\n",
       "      <td>Dan Brown</td>\n",
       "      <td>2</td>\n",
       "      <td>3.754540</td>\n",
       "    </tr>\n",
       "    <tr>\n",
       "      <th>10</th>\n",
       "      <td>Lois Lowry</td>\n",
       "      <td>1</td>\n",
       "      <td>3.750000</td>\n",
       "    </tr>\n",
       "    <tr>\n",
       "      <th>11</th>\n",
       "      <td>George Orwell/Boris Grabnar/Peter Škerl</td>\n",
       "      <td>1</td>\n",
       "      <td>3.729730</td>\n",
       "    </tr>\n",
       "    <tr>\n",
       "      <th>12</th>\n",
       "      <td>Stephenie Meyer</td>\n",
       "      <td>1</td>\n",
       "      <td>3.662500</td>\n",
       "    </tr>\n",
       "    <tr>\n",
       "      <th>13</th>\n",
       "      <td>John Steinbeck</td>\n",
       "      <td>1</td>\n",
       "      <td>3.622951</td>\n",
       "    </tr>\n",
       "  </tbody>\n",
       "</table>\n",
       "</div>"
      ],
      "text/plain": [
       "                                               author  book_num       avg\n",
       "0                          J.K. Rowling/Mary GrandPré         4  4.283844\n",
       "1                   Markus Zusak/Cao Xuân Việt Khương         1  4.264151\n",
       "2                                      J.R.R. Tolkien         2  4.258446\n",
       "3                                   Louisa May Alcott         1  4.192308\n",
       "4                                        Rick Riordan         1  4.080645\n",
       "5                                     William Golding         1  3.901408\n",
       "6                                       J.D. Salinger         1  3.825581\n",
       "7            Paulo Coelho/Alan R. Clarke/Özdemir İnce         1  3.789474\n",
       "8   William Shakespeare/Paul Werstine/Barbara A. M...         1  3.787879\n",
       "9                                           Dan Brown         2  3.754540\n",
       "10                                         Lois Lowry         1  3.750000\n",
       "11            George Orwell/Boris Grabnar/Peter Škerl         1  3.729730\n",
       "12                                    Stephenie Meyer         1  3.662500\n",
       "13                                     John Steinbeck         1  3.622951"
      ]
     },
     "execution_count": 24,
     "metadata": {},
     "output_type": "execute_result"
    }
   ],
   "source": [
    "pd.read_sql(''' \n",
    "\n",
    "WITH book_ratings AS\n",
    "  (SELECT author,\n",
    "          r.avg\n",
    "   FROM\n",
    "     (SELECT b.book_id AS id,\n",
    "             b.author_id AS author_id,\n",
    "             COUNT(DISTINCT(rat.rating_id)),\n",
    "             AVG(rat.rating) AS AVG\n",
    "      FROM books AS b\n",
    "      INNER JOIN ratings AS rat ON b.book_id = rat.book_id\n",
    "      GROUP BY id\n",
    "      HAVING COUNT(DISTINCT(rat.rating_id)) > 50) AS r\n",
    "   INNER JOIN authors AS a ON a.author_id = r.author_id\n",
    "   GROUP BY author,\n",
    "            r.avg)\n",
    "SELECT author,\n",
    "       COUNT(author) AS book_num,\n",
    "       AVG(AVG)\n",
    "FROM book_ratings\n",
    "GROUP BY author\n",
    "ORDER BY AVG DESC\n",
    "\n",
    "''', engine)"
   ]
  },
  {
   "cell_type": "markdown",
   "metadata": {},
   "source": [
    "Conclusion: J.K. Rowling/Mary GrandPré the author with the highest average book rating (4.43), which has at least 50 ratings per book."
   ]
  },
  {
   "cell_type": "markdown",
   "metadata": {},
   "source": [
    "### Find the average number of text reviews among users who rated more than 50 books."
   ]
  },
  {
   "cell_type": "code",
   "execution_count": 14,
   "metadata": {},
   "outputs": [
    {
     "data": {
      "text/html": [
       "<div>\n",
       "<style scoped>\n",
       "    .dataframe tbody tr th:only-of-type {\n",
       "        vertical-align: middle;\n",
       "    }\n",
       "\n",
       "    .dataframe tbody tr th {\n",
       "        vertical-align: top;\n",
       "    }\n",
       "\n",
       "    .dataframe thead th {\n",
       "        text-align: right;\n",
       "    }\n",
       "</style>\n",
       "<table border=\"1\" class=\"dataframe\">\n",
       "  <thead>\n",
       "    <tr style=\"text-align: right;\">\n",
       "      <th></th>\n",
       "      <th>avg</th>\n",
       "    </tr>\n",
       "  </thead>\n",
       "  <tbody>\n",
       "    <tr>\n",
       "      <th>0</th>\n",
       "      <td>24.333333</td>\n",
       "    </tr>\n",
       "  </tbody>\n",
       "</table>\n",
       "</div>"
      ],
      "text/plain": [
       "         avg\n",
       "0  24.333333"
      ]
     },
     "execution_count": 14,
     "metadata": {},
     "output_type": "execute_result"
    }
   ],
   "source": [
    "query_rev = f''' SELECT AVG(review_number) FROM (SELECT \n",
    "                 COUNT(DISTINCT reviews.review_id) as review_number\n",
    "                 FROM ratings INNER JOIN reviews ON reviews.username = ratings.username\n",
    "                 GROUP BY reviews.username \n",
    "                 HAVING COUNT(DISTINCT ratings.rating_id) > 50) AS q '''\n",
    "avr_rev_num = pd.read_sql(query_rev, engine)\n",
    "avr_rev_num"
   ]
  },
  {
   "cell_type": "markdown",
   "metadata": {},
   "source": [
    "Conclusion: the average number of text reviews among users who rated more than 50 books is 24."
   ]
  },
  {
   "cell_type": "markdown",
   "metadata": {},
   "source": [
    "## Conclusion."
   ]
  },
  {
   "cell_type": "markdown",
   "metadata": {},
   "source": [
    "Total number of books in the dataset is 1000, 819 of them released after January 1, 2000.\n",
    "\n",
    "Books has at least one review and average rating from 1,5 to 5.\n",
    "\n",
    "Publisher \"Penguin Books\" released the greatest number of books with more than 50 pages (42 books).\n",
    "\n",
    "J.K. Rowling/Mary GrandPré the author with the highest average book rating (4.3), which has at least 50 ratings per book.\n",
    "\n",
    "The average number of text reviews among users who rated more than 50 books is 24."
   ]
  }
 ],
 "metadata": {
  "ExecuteTimeLog": [
   {
    "duration": 137,
    "start_time": "2022-04-28T06:09:54.303Z"
   },
   {
    "duration": 14117,
    "start_time": "2022-04-28T06:13:23.798Z"
   },
   {
    "duration": 84,
    "start_time": "2022-04-28T06:14:39.719Z"
   },
   {
    "duration": 577,
    "start_time": "2022-04-28T06:16:45.971Z"
   },
   {
    "duration": 9,
    "start_time": "2022-04-28T06:17:49.027Z"
   },
   {
    "duration": 85,
    "start_time": "2022-04-28T06:18:06.162Z"
   },
   {
    "duration": 9,
    "start_time": "2022-04-28T06:18:43.368Z"
   },
   {
    "duration": 91,
    "start_time": "2022-04-28T06:18:50.577Z"
   },
   {
    "duration": 89,
    "start_time": "2022-04-28T06:22:20.060Z"
   },
   {
    "duration": 89,
    "start_time": "2022-04-28T06:22:47.606Z"
   },
   {
    "duration": 90,
    "start_time": "2022-04-28T06:23:10.448Z"
   },
   {
    "duration": 90,
    "start_time": "2022-04-28T06:23:29.876Z"
   },
   {
    "duration": 113,
    "start_time": "2022-04-28T06:24:44.306Z"
   },
   {
    "duration": 67,
    "start_time": "2022-04-28T06:26:27.321Z"
   },
   {
    "duration": 66,
    "start_time": "2022-04-28T06:26:33.766Z"
   },
   {
    "duration": 67,
    "start_time": "2022-04-28T06:26:41.415Z"
   },
   {
    "duration": 65,
    "start_time": "2022-04-28T06:26:59.853Z"
   },
   {
    "duration": 69,
    "start_time": "2022-04-28T06:27:09.793Z"
   },
   {
    "duration": 3,
    "start_time": "2022-04-28T06:30:49.324Z"
   },
   {
    "duration": 70,
    "start_time": "2022-04-28T06:31:41.950Z"
   },
   {
    "duration": 71,
    "start_time": "2022-04-28T06:36:00.719Z"
   },
   {
    "duration": 100,
    "start_time": "2022-04-28T06:38:36.416Z"
   },
   {
    "duration": 205,
    "start_time": "2022-04-28T06:41:07.396Z"
   },
   {
    "duration": 210,
    "start_time": "2022-04-28T06:41:32.139Z"
   },
   {
    "duration": 220,
    "start_time": "2022-04-28T06:42:01.712Z"
   },
   {
    "duration": 90,
    "start_time": "2022-04-28T06:42:16.506Z"
   },
   {
    "duration": 95,
    "start_time": "2022-04-28T06:42:26.221Z"
   },
   {
    "duration": 94,
    "start_time": "2022-04-28T06:42:56.888Z"
   },
   {
    "duration": 107,
    "start_time": "2022-04-28T06:43:08.599Z"
   },
   {
    "duration": 82,
    "start_time": "2022-04-28T06:46:01.405Z"
   },
   {
    "duration": 9,
    "start_time": "2022-04-28T06:49:52.132Z"
   },
   {
    "duration": 77,
    "start_time": "2022-04-28T06:49:58.375Z"
   },
   {
    "duration": 79,
    "start_time": "2022-04-28T06:50:08.156Z"
   },
   {
    "duration": 72,
    "start_time": "2022-04-28T07:34:57.042Z"
   },
   {
    "duration": 76,
    "start_time": "2022-04-28T07:35:11.919Z"
   },
   {
    "duration": 100,
    "start_time": "2022-04-28T07:42:11.603Z"
   },
   {
    "duration": 181,
    "start_time": "2022-04-28T07:47:15.100Z"
   },
   {
    "duration": 100,
    "start_time": "2022-04-28T07:47:32.059Z"
   },
   {
    "duration": 197,
    "start_time": "2022-04-28T07:48:41.257Z"
   },
   {
    "duration": 235,
    "start_time": "2022-04-28T07:53:06.529Z"
   },
   {
    "duration": 98,
    "start_time": "2022-04-28T07:53:35.024Z"
   },
   {
    "duration": 103,
    "start_time": "2022-04-28T07:53:46.069Z"
   },
   {
    "duration": 98,
    "start_time": "2022-04-28T07:55:54.413Z"
   },
   {
    "duration": 15056,
    "start_time": "2022-04-28T07:56:48.787Z"
   },
   {
    "duration": 311,
    "start_time": "2022-04-28T07:57:03.846Z"
   },
   {
    "duration": 95,
    "start_time": "2022-04-28T07:57:04.159Z"
   },
   {
    "duration": 86,
    "start_time": "2022-04-28T07:57:04.256Z"
   },
   {
    "duration": 85,
    "start_time": "2022-04-28T07:57:04.345Z"
   },
   {
    "duration": 86,
    "start_time": "2022-04-28T07:57:04.432Z"
   },
   {
    "duration": 82,
    "start_time": "2022-04-28T07:57:04.520Z"
   },
   {
    "duration": 86,
    "start_time": "2022-04-28T07:57:04.604Z"
   },
   {
    "duration": 76,
    "start_time": "2022-04-28T07:57:04.692Z"
   },
   {
    "duration": 112,
    "start_time": "2022-04-28T07:57:04.770Z"
   },
   {
    "duration": 82,
    "start_time": "2022-04-28T07:57:04.884Z"
   },
   {
    "duration": 88,
    "start_time": "2022-04-28T07:57:04.967Z"
   },
   {
    "duration": 112,
    "start_time": "2022-04-28T07:57:05.057Z"
   },
   {
    "duration": 14628,
    "start_time": "2022-04-28T08:05:23.146Z"
   },
   {
    "duration": 310,
    "start_time": "2022-04-28T08:05:37.776Z"
   },
   {
    "duration": 89,
    "start_time": "2022-04-28T08:05:38.087Z"
   },
   {
    "duration": 78,
    "start_time": "2022-04-28T08:05:38.179Z"
   },
   {
    "duration": 80,
    "start_time": "2022-04-28T08:05:38.259Z"
   },
   {
    "duration": 83,
    "start_time": "2022-04-28T08:05:38.341Z"
   },
   {
    "duration": 75,
    "start_time": "2022-04-28T08:05:38.425Z"
   },
   {
    "duration": 77,
    "start_time": "2022-04-28T08:05:38.502Z"
   },
   {
    "duration": 75,
    "start_time": "2022-04-28T08:05:38.581Z"
   },
   {
    "duration": 97,
    "start_time": "2022-04-28T08:05:38.660Z"
   },
   {
    "duration": 80,
    "start_time": "2022-04-28T08:05:38.759Z"
   },
   {
    "duration": 87,
    "start_time": "2022-04-28T08:05:38.841Z"
   },
   {
    "duration": 108,
    "start_time": "2022-04-28T08:05:38.929Z"
   },
   {
    "duration": 13270,
    "start_time": "2022-04-28T16:20:42.018Z"
   },
   {
    "duration": 109,
    "start_time": "2022-04-28T16:20:55.290Z"
   },
   {
    "duration": 17,
    "start_time": "2022-04-28T16:20:55.401Z"
   },
   {
    "duration": 17,
    "start_time": "2022-04-28T16:20:55.419Z"
   },
   {
    "duration": 21,
    "start_time": "2022-04-28T16:20:55.438Z"
   },
   {
    "duration": 20,
    "start_time": "2022-04-28T16:20:55.461Z"
   },
   {
    "duration": 10,
    "start_time": "2022-04-28T16:20:55.484Z"
   },
   {
    "duration": 26,
    "start_time": "2022-04-28T16:20:55.496Z"
   },
   {
    "duration": 13,
    "start_time": "2022-04-28T16:20:55.524Z"
   },
   {
    "duration": 34,
    "start_time": "2022-04-28T16:20:55.539Z"
   },
   {
    "duration": 18,
    "start_time": "2022-04-28T16:20:55.575Z"
   },
   {
    "duration": 20,
    "start_time": "2022-04-28T16:20:55.595Z"
   },
   {
    "duration": 47,
    "start_time": "2022-04-28T16:20:55.617Z"
   },
   {
    "duration": 26,
    "start_time": "2022-04-28T16:27:09.532Z"
   },
   {
    "duration": 136,
    "start_time": "2022-04-28T16:27:16.004Z"
   },
   {
    "duration": 29,
    "start_time": "2022-04-28T16:27:18.723Z"
   },
   {
    "duration": 36,
    "start_time": "2022-04-28T16:27:28.370Z"
   },
   {
    "duration": 26,
    "start_time": "2022-04-28T16:27:45.089Z"
   },
   {
    "duration": 34,
    "start_time": "2022-04-28T16:27:47.186Z"
   },
   {
    "duration": 805,
    "start_time": "2022-04-28T20:51:52.274Z"
   },
   {
    "duration": 112,
    "start_time": "2022-04-28T20:52:41.015Z"
   },
   {
    "duration": 731,
    "start_time": "2022-04-28T20:52:48.431Z"
   },
   {
    "duration": 6091,
    "start_time": "2022-04-28T20:52:49.165Z"
   },
   {
    "duration": 265,
    "start_time": "2022-04-28T20:52:55.259Z"
   },
   {
    "duration": 78,
    "start_time": "2022-04-28T20:52:55.528Z"
   },
   {
    "duration": 93,
    "start_time": "2022-04-28T20:52:55.609Z"
   },
   {
    "duration": 81,
    "start_time": "2022-04-28T20:52:55.705Z"
   },
   {
    "duration": 82,
    "start_time": "2022-04-28T20:52:55.788Z"
   },
   {
    "duration": 74,
    "start_time": "2022-04-28T20:52:55.873Z"
   },
   {
    "duration": 67,
    "start_time": "2022-04-28T20:52:55.950Z"
   },
   {
    "duration": 75,
    "start_time": "2022-04-28T20:52:56.021Z"
   },
   {
    "duration": 93,
    "start_time": "2022-04-28T20:52:56.098Z"
   },
   {
    "duration": 88,
    "start_time": "2022-04-28T20:52:56.193Z"
   },
   {
    "duration": 75,
    "start_time": "2022-04-28T20:52:56.284Z"
   },
   {
    "duration": 99,
    "start_time": "2022-04-28T20:52:56.362Z"
   },
   {
    "duration": 89,
    "start_time": "2022-04-28T20:53:11.214Z"
   },
   {
    "duration": 331,
    "start_time": "2022-04-28T20:57:28.560Z"
   },
   {
    "duration": 196,
    "start_time": "2022-04-28T20:57:40.794Z"
   },
   {
    "duration": 115,
    "start_time": "2022-04-28T20:58:54.953Z"
   },
   {
    "duration": 119,
    "start_time": "2022-04-28T21:00:08.250Z"
   },
   {
    "duration": 723,
    "start_time": "2022-04-28T21:05:23.331Z"
   },
   {
    "duration": 7060,
    "start_time": "2022-04-28T21:05:24.058Z"
   },
   {
    "duration": 249,
    "start_time": "2022-04-28T21:05:31.120Z"
   },
   {
    "duration": 85,
    "start_time": "2022-04-28T21:05:31.372Z"
   },
   {
    "duration": 76,
    "start_time": "2022-04-28T21:05:31.459Z"
   },
   {
    "duration": 76,
    "start_time": "2022-04-28T21:05:31.538Z"
   },
   {
    "duration": 74,
    "start_time": "2022-04-28T21:05:31.616Z"
   },
   {
    "duration": 68,
    "start_time": "2022-04-28T21:05:31.692Z"
   },
   {
    "duration": 67,
    "start_time": "2022-04-28T21:05:31.763Z"
   },
   {
    "duration": 68,
    "start_time": "2022-04-28T21:05:31.834Z"
   },
   {
    "duration": 89,
    "start_time": "2022-04-28T21:05:31.904Z"
   },
   {
    "duration": 95,
    "start_time": "2022-04-28T21:05:31.995Z"
   },
   {
    "duration": 74,
    "start_time": "2022-04-28T21:05:32.092Z"
   },
   {
    "duration": 75,
    "start_time": "2022-04-28T21:05:32.169Z"
   },
   {
    "duration": 101,
    "start_time": "2022-04-28T21:05:32.247Z"
   },
   {
    "duration": 47,
    "start_time": "2022-04-29T08:29:08.925Z"
   },
   {
    "duration": 479,
    "start_time": "2022-04-29T08:29:17.372Z"
   },
   {
    "duration": 6270,
    "start_time": "2022-04-29T08:29:17.853Z"
   },
   {
    "duration": 287,
    "start_time": "2022-04-29T08:29:24.125Z"
   },
   {
    "duration": 91,
    "start_time": "2022-04-29T08:29:24.414Z"
   },
   {
    "duration": 79,
    "start_time": "2022-04-29T08:29:24.507Z"
   },
   {
    "duration": 81,
    "start_time": "2022-04-29T08:29:24.588Z"
   },
   {
    "duration": 78,
    "start_time": "2022-04-29T08:29:24.670Z"
   },
   {
    "duration": 74,
    "start_time": "2022-04-29T08:29:24.749Z"
   },
   {
    "duration": 74,
    "start_time": "2022-04-29T08:29:24.825Z"
   },
   {
    "duration": 74,
    "start_time": "2022-04-29T08:29:24.902Z"
   },
   {
    "duration": 92,
    "start_time": "2022-04-29T08:29:24.978Z"
   },
   {
    "duration": 95,
    "start_time": "2022-04-29T08:29:25.071Z"
   },
   {
    "duration": 79,
    "start_time": "2022-04-29T08:29:25.167Z"
   },
   {
    "duration": 80,
    "start_time": "2022-04-29T08:29:25.248Z"
   },
   {
    "duration": 108,
    "start_time": "2022-04-29T08:29:25.330Z"
   },
   {
    "duration": 101,
    "start_time": "2022-04-29T08:30:49.822Z"
   },
   {
    "duration": 101,
    "start_time": "2022-04-29T08:31:27.443Z"
   },
   {
    "duration": 76,
    "start_time": "2022-04-29T08:31:39.840Z"
   },
   {
    "duration": 104,
    "start_time": "2022-04-29T08:31:46.042Z"
   },
   {
    "duration": 75,
    "start_time": "2022-04-29T08:39:25.803Z"
   },
   {
    "duration": 75,
    "start_time": "2022-04-29T08:39:53.101Z"
   },
   {
    "duration": 78,
    "start_time": "2022-04-29T08:40:02.537Z"
   },
   {
    "duration": 76,
    "start_time": "2022-04-29T08:40:09.913Z"
   },
   {
    "duration": 4147,
    "start_time": "2022-04-29T08:42:16.220Z"
   },
   {
    "duration": 3,
    "start_time": "2022-04-29T09:35:24.924Z"
   },
   {
    "duration": 4,
    "start_time": "2022-04-29T09:35:34.880Z"
   },
   {
    "duration": 77,
    "start_time": "2022-04-29T09:36:01.833Z"
   },
   {
    "duration": 81,
    "start_time": "2022-04-29T09:36:08.004Z"
   },
   {
    "duration": 80,
    "start_time": "2022-04-29T09:37:53.202Z"
   },
   {
    "duration": 79,
    "start_time": "2022-04-29T09:43:46.104Z"
   },
   {
    "duration": 252,
    "start_time": "2022-04-29T09:45:43.577Z"
   },
   {
    "duration": 195,
    "start_time": "2022-04-29T09:46:17.502Z"
   },
   {
    "duration": 194,
    "start_time": "2022-04-29T09:46:23.998Z"
   },
   {
    "duration": 80,
    "start_time": "2022-04-29T09:46:52.620Z"
   },
   {
    "duration": 80,
    "start_time": "2022-04-29T09:47:14.055Z"
   },
   {
    "duration": 80,
    "start_time": "2022-04-29T09:47:49.124Z"
   },
   {
    "duration": 80,
    "start_time": "2022-04-29T09:47:55.270Z"
   },
   {
    "duration": 107,
    "start_time": "2022-04-29T09:50:59.905Z"
   },
   {
    "duration": 106,
    "start_time": "2022-04-29T09:51:04.933Z"
   },
   {
    "duration": 190,
    "start_time": "2022-04-29T09:51:30.549Z"
   },
   {
    "duration": 107,
    "start_time": "2022-04-29T09:51:53.104Z"
   },
   {
    "duration": 510,
    "start_time": "2022-04-29T09:52:01.762Z"
   },
   {
    "duration": 6990,
    "start_time": "2022-04-29T09:52:02.274Z"
   },
   {
    "duration": 253,
    "start_time": "2022-04-29T09:52:09.265Z"
   },
   {
    "duration": 76,
    "start_time": "2022-04-29T09:52:09.520Z"
   },
   {
    "duration": 75,
    "start_time": "2022-04-29T09:52:09.598Z"
   },
   {
    "duration": 77,
    "start_time": "2022-04-29T09:52:09.674Z"
   },
   {
    "duration": 77,
    "start_time": "2022-04-29T09:52:09.752Z"
   },
   {
    "duration": 76,
    "start_time": "2022-04-29T09:52:09.830Z"
   },
   {
    "duration": 77,
    "start_time": "2022-04-29T09:52:09.907Z"
   },
   {
    "duration": 76,
    "start_time": "2022-04-29T09:52:09.986Z"
   },
   {
    "duration": 118,
    "start_time": "2022-04-29T09:52:10.063Z"
   },
   {
    "duration": 79,
    "start_time": "2022-04-29T09:52:10.182Z"
   },
   {
    "duration": 79,
    "start_time": "2022-04-29T09:52:10.263Z"
   },
   {
    "duration": 81,
    "start_time": "2022-04-29T09:52:10.343Z"
   },
   {
    "duration": 106,
    "start_time": "2022-04-29T09:52:10.425Z"
   },
   {
    "duration": 243,
    "start_time": "2022-04-29T09:54:32.297Z"
   },
   {
    "duration": 454,
    "start_time": "2022-04-29T09:55:13.736Z"
   },
   {
    "duration": 80,
    "start_time": "2022-04-29T09:55:34.256Z"
   },
   {
    "duration": 506,
    "start_time": "2022-04-29T09:56:04.755Z"
   },
   {
    "duration": 7235,
    "start_time": "2022-04-29T09:56:05.263Z"
   },
   {
    "duration": 233,
    "start_time": "2022-04-29T09:56:12.500Z"
   },
   {
    "duration": 71,
    "start_time": "2022-04-29T09:56:12.735Z"
   },
   {
    "duration": 71,
    "start_time": "2022-04-29T09:56:12.807Z"
   },
   {
    "duration": 72,
    "start_time": "2022-04-29T09:56:12.880Z"
   },
   {
    "duration": 73,
    "start_time": "2022-04-29T09:56:12.953Z"
   },
   {
    "duration": 70,
    "start_time": "2022-04-29T09:56:13.028Z"
   },
   {
    "duration": 72,
    "start_time": "2022-04-29T09:56:13.100Z"
   },
   {
    "duration": 70,
    "start_time": "2022-04-29T09:56:13.175Z"
   },
   {
    "duration": 118,
    "start_time": "2022-04-29T09:56:13.246Z"
   },
   {
    "duration": 74,
    "start_time": "2022-04-29T09:56:13.365Z"
   },
   {
    "duration": 81,
    "start_time": "2022-04-29T09:56:13.441Z"
   },
   {
    "duration": 103,
    "start_time": "2022-04-29T09:56:13.524Z"
   },
   {
    "duration": 539,
    "start_time": "2022-04-29T11:10:12.794Z"
   },
   {
    "duration": 9903,
    "start_time": "2022-04-29T11:10:13.337Z"
   },
   {
    "duration": 284,
    "start_time": "2022-04-29T11:10:23.242Z"
   },
   {
    "duration": 73,
    "start_time": "2022-04-29T11:10:23.528Z"
   },
   {
    "duration": 72,
    "start_time": "2022-04-29T11:10:23.602Z"
   },
   {
    "duration": 72,
    "start_time": "2022-04-29T11:10:23.677Z"
   },
   {
    "duration": 73,
    "start_time": "2022-04-29T11:10:23.751Z"
   },
   {
    "duration": 72,
    "start_time": "2022-04-29T11:10:23.826Z"
   },
   {
    "duration": 71,
    "start_time": "2022-04-29T11:10:23.900Z"
   },
   {
    "duration": 70,
    "start_time": "2022-04-29T11:10:23.973Z"
   },
   {
    "duration": 113,
    "start_time": "2022-04-29T11:10:24.045Z"
   },
   {
    "duration": 76,
    "start_time": "2022-04-29T11:10:24.160Z"
   },
   {
    "duration": 78,
    "start_time": "2022-04-29T11:10:24.237Z"
   },
   {
    "duration": 105,
    "start_time": "2022-04-29T11:10:24.317Z"
   },
   {
    "duration": 77,
    "start_time": "2022-04-29T11:10:32.103Z"
   },
   {
    "duration": 140,
    "start_time": "2022-04-29T11:12:34.775Z"
   },
   {
    "duration": 73,
    "start_time": "2022-04-29T11:12:37.944Z"
   },
   {
    "duration": 78,
    "start_time": "2022-04-29T11:33:54.744Z"
   },
   {
    "duration": 259,
    "start_time": "2022-04-29T11:36:36.122Z"
   },
   {
    "duration": 220,
    "start_time": "2022-04-29T11:36:40.826Z"
   },
   {
    "duration": 77,
    "start_time": "2022-04-29T11:36:53.818Z"
   },
   {
    "duration": 79,
    "start_time": "2022-04-29T11:37:52.305Z"
   },
   {
    "duration": 78,
    "start_time": "2022-04-29T11:38:01.618Z"
   },
   {
    "duration": 78,
    "start_time": "2022-04-29T11:38:03.106Z"
   }
  ],
  "kernelspec": {
   "display_name": "Python 3",
   "language": "python",
   "name": "python3"
  },
  "language_info": {
   "codemirror_mode": {
    "name": "ipython",
    "version": 3
   },
   "file_extension": ".py",
   "mimetype": "text/x-python",
   "name": "python",
   "nbconvert_exporter": "python",
   "pygments_lexer": "ipython3",
   "version": "3.8.8"
  },
  "toc": {
   "base_numbering": 1,
   "nav_menu": {},
   "number_sections": true,
   "sideBar": true,
   "skip_h1_title": true,
   "title_cell": "Table of Contents",
   "title_sidebar": "Contents",
   "toc_cell": true,
   "toc_position": {},
   "toc_section_display": true,
   "toc_window_display": true
  }
 },
 "nbformat": 4,
 "nbformat_minor": 2
}
